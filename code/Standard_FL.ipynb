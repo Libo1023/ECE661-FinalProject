{
 "cells": [
  {
   "cell_type": "markdown",
   "metadata": {
    "id": "FtisFDIGbnpT"
   },
   "source": [
    "# Training SimpleNN on CIFAR-10\n",
    "In this project, you will use the SimpleNN model to perform image classification on CIFAR-10. CIFAR-10 orginally contains 60K images from 10 categories. We split it into 45K/5K/10K images to serve as train/valiation/test set. We only release the ground-truth labels of training/validation dataset to you."
   ]
  },
  {
   "cell_type": "markdown",
   "metadata": {
    "id": "2qeR54JzbnpW"
   },
   "source": [
    "## Step 0: Set up the SimpleNN model\n",
    "As you have practiced to implement simple neural networks in Homework 1, we just prepare the implementation for you."
   ]
  },
  {
   "cell_type": "code",
   "execution_count": 1,
   "metadata": {
    "id": "0DnnccFubnpW"
   },
   "outputs": [],
   "source": [
    "# import necessary dependencies\n",
    "import argparse\n",
    "import os, sys\n",
    "import pickle\n",
    "import time\n",
    "import datetime\n",
    "from tqdm import tqdm_notebook as tqdm\n",
    "import copy\n",
    "import numpy as np\n",
    "import random\n",
    "import torchvision\n",
    "import torchvision.transforms as transforms\n",
    "import torch\n",
    "import torch.nn as nn\n",
    "import torch.nn.functional as F\n",
    "import matplotlib.pyplot as plt\n",
    "\n",
    "from models import ResNet20, CNNCifar\n",
    "from datasplit import cifar_iid, cifar_noniid, cifar_noniid_simple, cifar_noniid_simple2, cifar_noniid_simple3\n",
    "from FL import LocalUpdate, average_weights\n",
    "from record import save_variable, load_variable\n",
    "\n",
    "# from torchtoolbox.transform import Cutout\n",
    "from tools.dataset import CIFAR10\n",
    "from torch.utils.data import DataLoader,Dataset"
   ]
  },
  {
   "cell_type": "markdown",
   "metadata": {},
   "source": [
    "## Some preparation before training"
   ]
  },
  {
   "cell_type": "code",
   "execution_count": 2,
   "metadata": {
    "id": "G3TydAHabnpc"
   },
   "outputs": [],
   "source": [
    "#############################################\n",
    "# specify preprocessing function\n",
    "transform_train = transforms.Compose([\n",
    "    \n",
    "    transforms.RandomCrop(32,4),\n",
    "#     Cutout(0.5),\n",
    "    transforms.RandomHorizontalFlip(),        \n",
    "   # transforms.RandomRotation(5),\n",
    "   # transforms.RandomGrayscale(0.5),\n",
    "    transforms.ToTensor(),\n",
    "    transforms.Normalize((0.4914, 0.4822, 0.4465),(0.2023, 0.1994, 0.2010)),    \n",
    "]) \n",
    "\n",
    "transform_val =  transforms.Compose([\n",
    "    transforms.ToTensor(),\n",
    "    transforms.Normalize((0.4914, 0.4822, 0.4465),(0.2023, 0.1994, 0.2010)),    \n",
    "])\n",
    "#############################################"
   ]
  },
  {
   "cell_type": "code",
   "execution_count": 3,
   "metadata": {
    "colab": {
     "base_uri": "https://localhost:8080/"
    },
    "id": "gigKFiqgbnpd",
    "outputId": "1304b13e-cf83-4b08-ca2f-4e0f66e4876e"
   },
   "outputs": [
    {
     "name": "stdout",
     "output_type": "stream",
     "text": [
      "Using downloaded and verified file: ./data/cifar10_trainval_F21.zip\n",
      "Extracting ./data/cifar10_trainval_F21.zip to ./data\n",
      "Files already downloaded and verified\n",
      "Using downloaded and verified file: ./data/cifar10_trainval_F21.zip\n",
      "Extracting ./data/cifar10_trainval_F21.zip to ./data\n",
      "Files already downloaded and verified\n"
     ]
    }
   ],
   "source": [
    "# do NOT change these\n",
    "# a few arguments, do NOT change these\n",
    "DATA_ROOT = \"./data\"\n",
    "TRAIN_BATCH_SIZE = 128\n",
    "VAL_BATCH_SIZE = 100\n",
    "\n",
    "#############################################\n",
    "# construct dataset\n",
    "train_set = CIFAR10(\n",
    "    root=DATA_ROOT, \n",
    "    mode='train', \n",
    "    download=True,\n",
    "    transform=transform_train    # your code\n",
    ")\n",
    "val_set = CIFAR10(\n",
    "    root=DATA_ROOT, \n",
    "    mode='val', \n",
    "    download=True,\n",
    "    transform=transform_val    # your code\n",
    ")\n",
    "\n",
    "val_loader = DataLoader(\n",
    "    val_set, \n",
    "    batch_size= VAL_BATCH_SIZE,  # your code\n",
    "    shuffle=False,     # your code\n",
    "    num_workers=4\n",
    ")\n",
    "#############################################"
   ]
  },
  {
   "cell_type": "code",
   "execution_count": 4,
   "metadata": {
    "colab": {
     "base_uri": "https://localhost:8080/"
    },
    "id": "y9TLe7PNbnpi",
    "outputId": "d8878212-e1da-4553-df00-4ff2c55da888"
   },
   "outputs": [],
   "source": [
    "# specify the device for computation\n",
    "#############################################\n",
    "# your code here\n",
    "device = 'cuda' if torch.cuda.is_available() else 'cpu'\n",
    "# global_net = ResNet20(Block)\n",
    "global_net = CNNCifar()\n",
    "global_net.to(device)\n",
    "#############################################\n",
    "criterion = nn.CrossEntropyLoss().to(device)"
   ]
  },
  {
   "cell_type": "markdown",
   "metadata": {},
   "source": [
    "### Standard Federated Training"
   ]
  },
  {
   "cell_type": "code",
   "execution_count": 5,
   "metadata": {
    "colab": {
     "base_uri": "https://localhost:8080/"
    },
    "id": "DkKqn47sbnpj",
    "outputId": "dcd3741e-ee2f-4bd5-a310-bcfa7ce87cea"
   },
   "outputs": [
    {
     "name": "stdout",
     "output_type": "stream",
     "text": [
      "==> Training starts!\n",
      "==================================================\n",
      "\n",
      " | Global Training Round : 1 |\n",
      "\n",
      "Epoch 1:\n"
     ]
    },
    {
     "name": "stderr",
     "output_type": "stream",
     "text": [
      "/home/jovyan/work/FL.py:29: UserWarning: To copy construct from a tensor, it is recommended to use sourceTensor.clone().detach() or sourceTensor.clone().detach().requires_grad_(True), rather than torch.tensor(sourceTensor).\n",
      "  return torch.tensor(inputs), torch.tensor(targets)\n"
     ]
    },
    {
     "ename": "KeyboardInterrupt",
     "evalue": "",
     "output_type": "error",
     "traceback": [
      "\u001b[0;31m---------------------------------------------------------------------------\u001b[0m",
      "\u001b[0;31mKeyboardInterrupt\u001b[0m                         Traceback (most recent call last)",
      "\u001b[0;32m<ipython-input-5-7624133f124d>\u001b[0m in \u001b[0;36m<module>\u001b[0;34m\u001b[0m\n\u001b[1;32m     74\u001b[0m     \u001b[0;32mfor\u001b[0m \u001b[0midx\u001b[0m \u001b[0;32min\u001b[0m \u001b[0mList1\u001b[0m\u001b[0;34m:\u001b[0m\u001b[0;34m\u001b[0m\u001b[0;34m\u001b[0m\u001b[0m\n\u001b[1;32m     75\u001b[0m         \u001b[0;31m################## For client[idx], can do poisoning attack here   ######################\u001b[0m\u001b[0;34m\u001b[0m\u001b[0;34m\u001b[0m\u001b[0;34m\u001b[0m\u001b[0m\n\u001b[0;32m---> 76\u001b[0;31m         \u001b[0mw\u001b[0m\u001b[0;34m,\u001b[0m \u001b[0mloss\u001b[0m \u001b[0;34m=\u001b[0m \u001b[0mlocal_model\u001b[0m\u001b[0;34m[\u001b[0m\u001b[0midx\u001b[0m\u001b[0;34m]\u001b[0m\u001b[0;34m.\u001b[0m\u001b[0mupdate_weights\u001b[0m\u001b[0;34m(\u001b[0m\u001b[0mmodel\u001b[0m\u001b[0;34m=\u001b[0m\u001b[0mclient_models\u001b[0m\u001b[0;34m[\u001b[0m\u001b[0midx\u001b[0m\u001b[0;34m]\u001b[0m\u001b[0;34m,\u001b[0m \u001b[0mGweight\u001b[0m \u001b[0;34m=\u001b[0m \u001b[0mglobal_weights\u001b[0m\u001b[0;34m)\u001b[0m\u001b[0;34m\u001b[0m\u001b[0;34m\u001b[0m\u001b[0m\n\u001b[0m\u001b[1;32m     77\u001b[0m \u001b[0;31m#         w, loss = local_model[idx].update_weights_prox(model=client_models[idx], global_net= global_net,Gweight = global_weights,mu = 0.00001)\u001b[0m\u001b[0;34m\u001b[0m\u001b[0;34m\u001b[0m\u001b[0;34m\u001b[0m\u001b[0m\n\u001b[1;32m     78\u001b[0m         \u001b[0mlocal_weights\u001b[0m\u001b[0;34m.\u001b[0m\u001b[0mappend\u001b[0m\u001b[0;34m(\u001b[0m\u001b[0mcopy\u001b[0m\u001b[0;34m.\u001b[0m\u001b[0mdeepcopy\u001b[0m\u001b[0;34m(\u001b[0m\u001b[0mw\u001b[0m\u001b[0;34m)\u001b[0m\u001b[0;34m)\u001b[0m\u001b[0;34m\u001b[0m\u001b[0;34m\u001b[0m\u001b[0m\n",
      "\u001b[0;32m~/work/FL.py\u001b[0m in \u001b[0;36mupdate_weights\u001b[0;34m(self, model, Gweight)\u001b[0m\n\u001b[1;32m     79\u001b[0m                 \u001b[0mloss\u001b[0m \u001b[0;34m=\u001b[0m \u001b[0mself\u001b[0m\u001b[0;34m.\u001b[0m\u001b[0mcriterion\u001b[0m\u001b[0;34m(\u001b[0m\u001b[0moutputs\u001b[0m\u001b[0;34m,\u001b[0m \u001b[0mtargets\u001b[0m\u001b[0;34m.\u001b[0m\u001b[0mlong\u001b[0m\u001b[0;34m(\u001b[0m\u001b[0;34m)\u001b[0m\u001b[0;34m)\u001b[0m\u001b[0;34m\u001b[0m\u001b[0;34m\u001b[0m\u001b[0m\n\u001b[1;32m     80\u001b[0m                 \u001b[0mloss\u001b[0m\u001b[0;34m.\u001b[0m\u001b[0mbackward\u001b[0m\u001b[0;34m(\u001b[0m\u001b[0;34m)\u001b[0m\u001b[0;34m\u001b[0m\u001b[0;34m\u001b[0m\u001b[0m\n\u001b[0;32m---> 81\u001b[0;31m                 \u001b[0moptimizer\u001b[0m\u001b[0;34m.\u001b[0m\u001b[0mstep\u001b[0m\u001b[0;34m(\u001b[0m\u001b[0;34m)\u001b[0m\u001b[0;34m\u001b[0m\u001b[0;34m\u001b[0m\u001b[0m\n\u001b[0m\u001b[1;32m     82\u001b[0m \u001b[0;34m\u001b[0m\u001b[0m\n\u001b[1;32m     83\u001b[0m                 \u001b[0mbatch_loss\u001b[0m\u001b[0;34m.\u001b[0m\u001b[0mappend\u001b[0m\u001b[0;34m(\u001b[0m\u001b[0mloss\u001b[0m\u001b[0;34m.\u001b[0m\u001b[0mitem\u001b[0m\u001b[0;34m(\u001b[0m\u001b[0;34m)\u001b[0m\u001b[0;34m)\u001b[0m\u001b[0;34m\u001b[0m\u001b[0;34m\u001b[0m\u001b[0m\n",
      "\u001b[0;32m/opt/conda/lib/python3.6/site-packages/torch/optim/sgd.py\u001b[0m in \u001b[0;36mstep\u001b[0;34m(self, closure)\u001b[0m\n\u001b[1;32m     91\u001b[0m                 \u001b[0md_p\u001b[0m \u001b[0;34m=\u001b[0m \u001b[0mp\u001b[0m\u001b[0;34m.\u001b[0m\u001b[0mgrad\u001b[0m\u001b[0;34m.\u001b[0m\u001b[0mdata\u001b[0m\u001b[0;34m\u001b[0m\u001b[0;34m\u001b[0m\u001b[0m\n\u001b[1;32m     92\u001b[0m                 \u001b[0;32mif\u001b[0m \u001b[0mweight_decay\u001b[0m \u001b[0;34m!=\u001b[0m \u001b[0;36m0\u001b[0m\u001b[0;34m:\u001b[0m\u001b[0;34m\u001b[0m\u001b[0;34m\u001b[0m\u001b[0m\n\u001b[0;32m---> 93\u001b[0;31m                     \u001b[0md_p\u001b[0m\u001b[0;34m.\u001b[0m\u001b[0madd_\u001b[0m\u001b[0;34m(\u001b[0m\u001b[0mweight_decay\u001b[0m\u001b[0;34m,\u001b[0m \u001b[0mp\u001b[0m\u001b[0;34m.\u001b[0m\u001b[0mdata\u001b[0m\u001b[0;34m)\u001b[0m\u001b[0;34m\u001b[0m\u001b[0;34m\u001b[0m\u001b[0m\n\u001b[0m\u001b[1;32m     94\u001b[0m                 \u001b[0;32mif\u001b[0m \u001b[0mmomentum\u001b[0m \u001b[0;34m!=\u001b[0m \u001b[0;36m0\u001b[0m\u001b[0;34m:\u001b[0m\u001b[0;34m\u001b[0m\u001b[0;34m\u001b[0m\u001b[0m\n\u001b[1;32m     95\u001b[0m                     \u001b[0mparam_state\u001b[0m \u001b[0;34m=\u001b[0m \u001b[0mself\u001b[0m\u001b[0;34m.\u001b[0m\u001b[0mstate\u001b[0m\u001b[0;34m[\u001b[0m\u001b[0mp\u001b[0m\u001b[0;34m]\u001b[0m\u001b[0;34m\u001b[0m\u001b[0;34m\u001b[0m\u001b[0m\n",
      "\u001b[0;31mKeyboardInterrupt\u001b[0m: "
     ]
    }
   ],
   "source": [
    "# some hyperparameters\n",
    "# total number of training epochs\n",
    "EPOCHS = 50\n",
    "C = 0.1\n",
    "K = 100\n",
    "\n",
    "# the folder where the trained model is saved\n",
    "CHECKPOINT_PATH = \"./saved_model\"\n",
    "\n",
    "###########   Use different type of Data :    IID, NON-IID (unbalanced/ 1 CLASS/ 2 CLASS/ 3 CLASS)  ##########\n",
    "# user_groups = cifar_iid(train_set, 10)\n",
    "#user_groups = cifar_noniid(train_set, K)\n",
    "# user_groups = cifar_noniid_simple(train_set, K)\n",
    "user_groups = cifar_noniid_simple2(train_set, K)\n",
    "# user_groups = cifar_noniid_simple3(train_set, K)\n",
    "######################################################################\n",
    "\n",
    "# start the training/validation process\n",
    "best_val_acc = 0\n",
    "current_learning_rate = 0.01\n",
    "print(\"==> Training starts!\")\n",
    "print(\"=\"*50)\n",
    "\n",
    "train_loss, train_accuracy = [], []\n",
    "Validation_acc_global = []\n",
    "\n",
    "##############  Initialize all the clients model, for later randomly pick up  #################\n",
    "client_models = {i: CNNCifar().to(device) for i in range(K)}\n",
    "\n",
    "##############  Training begins   ##############\n",
    "for i in range(0, EPOCHS):\n",
    "    # handle the learning rate scheduler.\n",
    "    local_weights, local_losses = [], []\n",
    "    print(f'\\n | Global Training Round : {i+1} |\\n')\n",
    "    #######################\n",
    "    # switch to train mode\n",
    "    global_net.train()\n",
    "    print(\"Epoch %d:\" %(i+1))\n",
    "     \n",
    "    ######## m is the number of clients, C is the ration and K is the total number of candidate.\n",
    "    m = int(max(C*K,1))\n",
    "    \n",
    "    ######## randomly pick m clients from K candidate\n",
    "    List111 = []\n",
    "    [List111.append(i) for i in range (K)]\n",
    "    random.shuffle(List111)\n",
    "    List1 = []\n",
    "    for i in range(m):\n",
    "        List1.append(List111[i])\n",
    "    ##################################################\n",
    "#     List1=[]\n",
    "#     [List1.append(i) for i in range(m)]\n",
    "#     random.shuffle(List1)\n",
    "    ####################### \n",
    "    \"\"\"\n",
    "    Allocate ids to the client and use ids to call the corresponding client model\n",
    "    When use the model: 1. Initialization       2. Each client will return weight and loss \n",
    "                        3. Use agggregation to get the global weight    4. Use state_dict to update weight\n",
    "    \"\"\"\n",
    "    global_weights = global_net.state_dict()\n",
    "    \n",
    "    local_model = {i: LocalUpdate(dataset=train_set,idxs=user_groups[i],Gweight = global_weights) for i in List111}\n",
    "    #     local_model = LocalUpdate(dataset=train_set,idxs=user_groups,Gweight = global_weights)\n",
    "    \"\"\"\n",
    "    For later attack, we can appoint the ids to attack the local model\n",
    "    for example:   directly change the data & model\n",
    "    \"\"\"   \n",
    "#     for idx in List1:\n",
    "    for idx in List1:\n",
    "        ################## For client[idx], can do poisoning attack here   ######################\n",
    "        w, loss = local_model[idx].update_weights(model=client_models[idx], Gweight = global_weights)\n",
    "#         w, loss = local_model[idx].update_weights_prox(model=client_models[idx], global_net= global_net,Gweight = global_weights,mu = 0.00001)\n",
    "        local_weights.append(copy.deepcopy(w))\n",
    "        local_losses.append(copy.deepcopy(loss))\n",
    "\n",
    "        # update global weights\n",
    "    global_weights = average_weights(local_weights)\n",
    "\n",
    "        # update global weights\n",
    "    global_net.load_state_dict(global_weights)\n",
    "    \n",
    "    loss_avg = sum(local_losses) / len(local_losses)\n",
    "    train_loss.append(loss_avg)\n",
    "    \n",
    "    global_net.eval()\n",
    "    list_acc, list_loss = [], []\n",
    "    \n",
    "    ######### check training loss and training accuracy #########\n",
    "    for c in range(K):\n",
    "        local_model = LocalUpdate(dataset=train_set,idxs=user_groups[idx],Gweight = None)\n",
    "        acc, loss = local_model.inference(model=global_net)\n",
    "        list_acc.append(acc)\n",
    "        list_loss.append(loss)\n",
    "        train_accuracy.append(sum(list_acc)/len(list_acc))\n",
    "    print(f' \\nAvg Training Stats after {i+1} global rounds:')\n",
    "    print(f'Training Loss : {np.mean(np.array(train_loss))}')\n",
    "    print('Train Accuracy: {:.2f}% \\n'.format(100*train_accuracy[-1]))\n",
    "\n",
    "    # Validate on the validation dataset\n",
    "    #######################\n",
    "    # switch to eval mode\n",
    "    global_net.eval()  \n",
    "    #######################\n",
    "\n",
    "    # this help you compute the validation accuracy\n",
    "    total_examples = 0\n",
    "    correct_examples = 0\n",
    "    \n",
    "    val_loss = 0 # again, track the validation loss if you want\n",
    "\n",
    "    # disable gradient during validation, which can save GPU memory\n",
    "    with torch.no_grad():\n",
    "        for batch_idx, (inputs, targets) in enumerate(val_loader):\n",
    "            ####################################\n",
    "            # your code here\n",
    "            # copy inputs to device\n",
    "            inputs = inputs.to(device)\n",
    "            #targets = torch.Tensor(targets).long()\n",
    "            targets = targets.to(device)\n",
    "            # compute the output and loss\n",
    "            outputs = global_net(inputs)        \n",
    "            loss = criterion(outputs, targets.long())\n",
    "            # count the number of correctly predicted samples in the current batch\n",
    "            _, predicted = torch.max(outputs, 1)\n",
    "            correct = predicted.eq(targets).sum()\n",
    "            ##############\n",
    "            total_examples+=targets.shape[0]\n",
    "            correct_examples+=correct.item()\n",
    "            val_loss+=loss\n",
    "            ####################################\n",
    "\n",
    "    avg_loss = val_loss / len(val_loader)\n",
    "    avg_acc = correct_examples / total_examples\n",
    "    print(\"Validation loss: %.4f, Validation accuracy: %.4f\" % (avg_loss, avg_acc))\n",
    "    Validation_acc_global.append(avg_acc)\n",
    "    filename = save_variable(Validation_acc_global,'accuracy4.txt')\n",
    "    # save the model checkpoint\n",
    "    if avg_acc > best_val_acc:\n",
    "        best_val_acc = avg_acc\n",
    "        if not os.path.exists(CHECKPOINT_PATH):\n",
    "            os.makedirs(CHECKPOINT_PATH)\n",
    "        print(\"Saving ...\")\n",
    "        state = {'state_dict': global_net.state_dict(),\n",
    "                 'epoch': i,\n",
    "                 'lr': current_learning_rate}\n",
    "        torch.save(state, os.path.join(CHECKPOINT_PATH, 'Simplenn.pth'))\n",
    "        \n",
    "    print('')\n",
    "    \n",
    "print(\"=\"*50)\n",
    "print(f\"==> Optimization finished! Best validation accuracy: {best_val_acc:.4f}\")\n"
   ]
  },
  {
   "cell_type": "code",
   "execution_count": 10,
   "metadata": {},
   "outputs": [],
   "source": [
    "filename = save_variable(Validation_acc_global,'Record_name.txt')"
   ]
  },
  {
   "cell_type": "code",
   "execution_count": null,
   "metadata": {},
   "outputs": [],
   "source": [
    "fig = plt.figure()\n",
    "ax = fig.add_subplot(1,1,1)\n",
    "ax.plot(range(EPOCHS),Validation_acc_global,label='Record_name')\n",
    "ax.set_title('Federated Learning with K clients')\n",
    "ax.set_xlabel('Communication Round')\n",
    "ax.set_ylabel('Test Accuracy')\n",
    "plt.legend(frameon=False,loc=\"lower right\")\n",
    "plt.show"
   ]
  },
  {
   "cell_type": "code",
   "execution_count": 11,
   "metadata": {},
   "outputs": [],
   "source": [
    "rrr = load_variable('Record_name.txt')"
   ]
  },
  {
   "cell_type": "code",
   "execution_count": 13,
   "metadata": {
    "colab": {
     "base_uri": "https://localhost:8080/",
     "height": 313
    },
    "id": "y7SOQgP-bnpt",
    "outputId": "17fa6df6-a4b3-426b-cee8-6bddc1148045"
   },
   "outputs": [
    {
     "data": {
      "text/plain": [
       "<function matplotlib.pyplot.show(*args, **kw)>"
      ]
     },
     "execution_count": 13,
     "metadata": {},
     "output_type": "execute_result"
    },
    {
     "data": {
      "image/png": "[encoded data removed]",
      "text/plain": [
       "<Figure size 432x288 with 1 Axes>"
      ]
     },
     "metadata": {
      "needs_background": "light"
     },
     "output_type": "display_data"
    }
   ],
   "source": [
    "fig = plt.figure()\n",
    "ax = fig.add_subplot(1,1,1)\n",
    "ax.plot(range(EPOCHS),rrr,label='validation accuracy1')\n",
    "ax.set_title('Federated Learning with K clients')\n",
    "ax.set_xlabel('Communication Round')\n",
    "ax.set_ylabel('Test Accuracy')\n",
    "plt.legend(frameon=False,loc=\"lower right\")\n",
    "plt.show"
   ]
  },
  {
   "cell_type": "code",
   "execution_count": null,
   "metadata": {
    "id": "605wrl_xbnpw"
   },
   "outputs": [],
   "source": []
  }
 ],
 "metadata": {
  "colab": {
   "name": "CNN-cifar10_V3_1.ipynb",
   "provenance": []
  },
  "kernelspec": {
   "display_name": "Python 3",
   "language": "python",
   "name": "python3"
  },
  "language_info": {
   "codemirror_mode": {
    "name": "ipython",
    "version": 3
   },
   "file_extension": ".py",
   "mimetype": "text/x-python",
   "name": "python",
   "nbconvert_exporter": "python",
   "pygments_lexer": "ipython3",
   "version": "3.6.10"
  }
 },
 "nbformat": 4,
 "nbformat_minor": 4
}
